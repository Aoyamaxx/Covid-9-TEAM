{
 "cells": [
  {
   "cell_type": "code",
   "execution_count": 23,
   "metadata": {},
   "outputs": [
    {
     "name": "stdout",
     "output_type": "stream",
     "text": [
      "Processing raw_datasets/supplementary_dataset_TS/epidemiology.csv...\n",
      "Processing raw_datasets/supplementary_dataset_TS/by-sex.csv...\n",
      "Processing raw_datasets/supplementary_dataset_TS/mobility.csv...\n",
      "Processing raw_datasets/supplementary_dataset_TS/lawatlas-emergency-declarations.csv...\n",
      "Processing raw_datasets/supplementary_dataset_TS/google-search-trends.csv...\n"
     ]
    },
    {
     "name": "stderr",
     "output_type": "stream",
     "text": [
      "/var/folders/l2/6k2cs13d16xfb7mrzcmwrcv40000gn/T/ipykernel_11137/2863859776.py:23: DtypeWarning: Columns (148,149,150,151) have mixed types. Specify dtype option on import or set low_memory=False.\n",
      "  data = pd.read_csv(dataset_path)\n"
     ]
    },
    {
     "name": "stdout",
     "output_type": "stream",
     "text": [
      "Processing raw_datasets/supplementary_dataset_TS/by-age.csv...\n",
      "Processing raw_datasets/supplementary_dataset_TS/weather.csv...\n",
      "Processing raw_datasets/supplementary_dataset_TS/vaccinations.csv...\n"
     ]
    },
    {
     "name": "stderr",
     "output_type": "stream",
     "text": [
      "/var/folders/l2/6k2cs13d16xfb7mrzcmwrcv40000gn/T/ipykernel_11137/2863859776.py:23: DtypeWarning: Columns (5,8) have mixed types. Specify dtype option on import or set low_memory=False.\n",
      "  data = pd.read_csv(dataset_path)\n"
     ]
    },
    {
     "name": "stdout",
     "output_type": "stream",
     "text": [
      "Processing raw_datasets/supplementary_dataset_TS/Global_vaccination_search_insights.csv...\n",
      "Processing raw_datasets/supplementary_dataset_TS/oxford-government-response.csv...\n",
      "Processing raw_datasets/supplementary_dataset_TS/hospitalizations.csv...\n"
     ]
    },
    {
     "data": {
      "text/html": [
       "<div>\n",
       "<style scoped>\n",
       "    .dataframe tbody tr th:only-of-type {\n",
       "        vertical-align: middle;\n",
       "    }\n",
       "\n",
       "    .dataframe tbody tr th {\n",
       "        vertical-align: top;\n",
       "    }\n",
       "\n",
       "    .dataframe thead th {\n",
       "        text-align: right;\n",
       "    }\n",
       "</style>\n",
       "<table border=\"1\" class=\"dataframe\">\n",
       "  <thead>\n",
       "    <tr style=\"text-align: right;\">\n",
       "      <th></th>\n",
       "      <th>filename</th>\n",
       "      <th>variable</th>\n",
       "      <th>correlation</th>\n",
       "    </tr>\n",
       "  </thead>\n",
       "  <tbody>\n",
       "    <tr>\n",
       "      <th>3</th>\n",
       "      <td>epidemiology.csv</td>\n",
       "      <td>new_tested</td>\n",
       "      <td>0.107420</td>\n",
       "    </tr>\n",
       "    <tr>\n",
       "      <th>656</th>\n",
       "      <td>hospitalizations.csv</td>\n",
       "      <td>new_hospitalized_patients</td>\n",
       "      <td>0.091322</td>\n",
       "    </tr>\n",
       "    <tr>\n",
       "      <th>658</th>\n",
       "      <td>hospitalizations.csv</td>\n",
       "      <td>current_hospitalized_patients</td>\n",
       "      <td>0.086488</td>\n",
       "    </tr>\n",
       "    <tr>\n",
       "      <th>6</th>\n",
       "      <td>epidemiology.csv</td>\n",
       "      <td>cumulative_recovered</td>\n",
       "      <td>0.080359</td>\n",
       "    </tr>\n",
       "    <tr>\n",
       "      <th>7</th>\n",
       "      <td>epidemiology.csv</td>\n",
       "      <td>cumulative_tested</td>\n",
       "      <td>0.077731</td>\n",
       "    </tr>\n",
       "  </tbody>\n",
       "</table>\n",
       "</div>"
      ],
      "text/plain": [
       "                 filename                       variable  correlation\n",
       "3        epidemiology.csv                     new_tested     0.107420\n",
       "656  hospitalizations.csv      new_hospitalized_patients     0.091322\n",
       "658  hospitalizations.csv  current_hospitalized_patients     0.086488\n",
       "6        epidemiology.csv           cumulative_recovered     0.080359\n",
       "7        epidemiology.csv              cumulative_tested     0.077731"
      ]
     },
     "execution_count": 23,
     "metadata": {},
     "output_type": "execute_result"
    }
   ],
   "source": [
    "# time seris correlation ranking\n",
    "\n",
    "import os\n",
    "import pandas as pd\n",
    "import statsmodels.api as sm\n",
    "\n",
    "# Adjust these paths to where your datasets are located\n",
    "truth_data_path = 'proccesed_data/unique_truth_main_dataset.csv'\n",
    "datasets_folder_path = 'raw_datasets/supplementary_dataset_TS'\n",
    "\n",
    "# Load the truth data\n",
    "truth_data = pd.read_csv(truth_data_path)\n",
    "truth_data.rename(columns={'abbreviation': 'location_key', 'target_end_date': 'date'}, inplace=True)\n",
    "truth_data['location_key'] = 'US_' + truth_data['location_key']\n",
    "\n",
    "# Store results\n",
    "results = []\n",
    "\n",
    "# Iterate over each dataset in the folder\n",
    "for filename in os.listdir(datasets_folder_path):\n",
    "    if filename.endswith('.csv'):\n",
    "        dataset_path = os.path.join(datasets_folder_path, filename)\n",
    "        data = pd.read_csv(dataset_path)\n",
    "        \n",
    "        print(f\"Processing {dataset_path}...\")\n",
    "        \n",
    "        if dataset_path == 'raw_datasets/supplementary_dataset_TS/Global_vaccination_search_insights.csv':\n",
    "            data.rename(columns={'sub_region_1_code': 'location_key'}, inplace=True)\n",
    "        \n",
    "        # Merge with truth_data on date and location\n",
    "        merged_data = pd.merge(truth_data, data, on=['date', 'location_key'])\n",
    "        \n",
    "        for column in data.columns:\n",
    "            if column not in ['date', 'location_key']:\n",
    "                # Drop rows where the current column or truth_value has NaN\n",
    "                clean_merged_data = merged_data.dropna(subset=[column, 'truth_value'])\n",
    "\n",
    "                # Check if there's still data left after dropping NaNs\n",
    "                if not clean_merged_data.empty:\n",
    "                    # Check if the data is numeric\n",
    "                    if pd.api.types.is_numeric_dtype(clean_merged_data[column]):\n",
    "                        # Prepare data for regression\n",
    "                        X = sm.add_constant(clean_merged_data[column])  # Add constant\n",
    "                        y = clean_merged_data['truth_value']\n",
    "\n",
    "                        # Run linear regression\n",
    "                        model = sm.OLS(y, X).fit()\n",
    "\n",
    "                        # Record the result\n",
    "                        results.append({\n",
    "                            'filename': filename,\n",
    "                            'variable': column,\n",
    "                            'correlation': model.rsquared\n",
    "                        })\n",
    "\n",
    "# Convert results to DataFrame\n",
    "results_df = pd.DataFrame(results)\n",
    "\n",
    "# Sort results by correlation in descending order\n",
    "results_df = results_df.sort_values(by='correlation', ascending=False)\n",
    "\n",
    "results_df.to_csv('proccesed_data/OLS_correlation_ranking.csv', index=False)\n",
    "\n",
    "# Output the sorted results\n",
    "results_df.head()"
   ]
  }
 ],
 "metadata": {
  "kernelspec": {
   "display_name": "base",
   "language": "python",
   "name": "python3"
  },
  "language_info": {
   "codemirror_mode": {
    "name": "ipython",
    "version": 3
   },
   "file_extension": ".py",
   "mimetype": "text/x-python",
   "name": "python",
   "nbconvert_exporter": "python",
   "pygments_lexer": "ipython3",
   "version": "3.10.9"
  }
 },
 "nbformat": 4,
 "nbformat_minor": 2
}
